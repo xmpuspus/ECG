{
 "cells": [
  {
   "cell_type": "markdown",
   "metadata": {},
   "source": [
    "# Detecting Sleep Apnea using Electrocardiogram"
   ]
  },
  {
   "cell_type": "markdown",
   "metadata": {},
   "source": [
    "Sleep apnea (AP-ne-ah) is a common disorder in which you have one or more pauses in breathing or shallow breaths while you sleep.\n",
    "\n",
    "Breathing pauses can last from a few seconds to minutes. They may occur 30 times or more an hour. Typically, normal breathing then starts again, sometimes with a loud snort or choking sound.\n",
    "\n",
    "Sleep apnea usually is a chronic (ongoing) condition that disrupts your sleep. When your breathing pauses or becomes shallow, you’ll often move out of deep sleep and into light sleep.\n",
    "\n",
    "As a result, the quality of your sleep is poor, which makes you tired during the day. Sleep apnea is a leading cause of excessive daytime sleepiness."
   ]
  },
  {
   "cell_type": "code",
   "execution_count": 1,
   "metadata": {
    "collapsed": true
   },
   "outputs": [],
   "source": [
    "import sys\n",
    "sys.path.insert(0, '/Users/user/Documents/ecg_research/')"
   ]
  },
  {
   "cell_type": "code",
   "execution_count": 2,
   "metadata": {
    "collapsed": false
   },
   "outputs": [],
   "source": [
    "import numpy as np\n",
    "import matplotlib.pyplot as plt\n",
    "from sklearn.externals import joblib as jl\n",
    "from savvyecg import ecg_module\n",
    "%matplotlib inline\n"
   ]
  },
  {
   "cell_type": "markdown",
   "metadata": {},
   "source": [
    "The input of the Sleep Apnea Detector is a single-lead ECG signal. Its output is a dictionary of segmented ECG signals (60-sec segments) along with its prediction (Apnea or not) for each segment."
   ]
  },
  {
   "cell_type": "code",
   "execution_count": 2,
   "metadata": {
    "collapsed": true
   },
   "outputs": [],
   "source": [
    "apnea_patients = jl.load('../ecg_research/Databases/Apnea_patients.pickle')"
   ]
  },
  {
   "cell_type": "code",
   "execution_count": 3,
   "metadata": {
    "collapsed": false
   },
   "outputs": [],
   "source": [
    "patient = apnea_patients['a01']"
   ]
  },
  {
   "cell_type": "code",
   "execution_count": 4,
   "metadata": {
    "collapsed": false
   },
   "outputs": [],
   "source": [
    "apnea_prediction = ecg_module.predict_apnea(patient)"
   ]
  },
  {
   "cell_type": "code",
   "execution_count": 5,
   "metadata": {
    "collapsed": false
   },
   "outputs": [],
   "source": [
    "# apnea_prediction"
   ]
  },
  {
   "cell_type": "code",
   "execution_count": 6,
   "metadata": {
    "collapsed": false
   },
   "outputs": [],
   "source": [
    "ECG_segments = apnea_prediction['ecg']\n",
    "preds = apnea_prediction['predictions']"
   ]
  },
  {
   "cell_type": "code",
   "execution_count": 9,
   "metadata": {
    "collapsed": false
   },
   "outputs": [
    {
     "data": {
      "text/plain": [
       "[<matplotlib.lines.Line2D at 0x140314748>]"
      ]
     },
     "execution_count": 9,
     "metadata": {},
     "output_type": "execute_result"
    },
    {
     "data": {
      "image/png": "[encoded data removed]",
      "text/plain": [
       "<matplotlib.figure.Figure at 0x112885748>"
      ]
     },
     "metadata": {},
     "output_type": "display_data"
    }
   ],
   "source": [
    "plt.plot(ECG_segments[1])"
   ]
  },
  {
   "cell_type": "code",
   "execution_count": 7,
   "metadata": {
    "collapsed": false
   },
   "outputs": [
    {
     "data": {
      "text/plain": [
       "array(['N', 'N', 'N', 'N', 'N', 'N', 'N', 'N', 'N', 'N', 'N', 'N', 'N',\n",
       "       'N', 'N', 'N', 'N', 'N', 'N', 'N', 'N', 'N', 'N', 'N', 'N', 'N',\n",
       "       'N', 'N', 'N', 'N', 'N', 'A', 'N', 'N', 'N', 'N', 'N', 'A', 'N',\n",
       "       'N', 'N', 'N', 'N', 'N', 'N', 'N', 'N', 'A', 'N', 'N', 'N', 'A',\n",
       "       'N', 'N', 'N', 'A', 'N', 'N', 'N', 'N', 'A', 'N', 'N', 'N', 'N',\n",
       "       'N', 'N', 'A', 'A', 'N', 'A', 'A', 'A', 'A', 'A', 'A', 'A', 'N',\n",
       "       'N', 'A', 'A', 'A', 'A', 'A', 'A', 'A', 'A', 'A', 'A', 'A', 'A',\n",
       "       'N', 'N', 'A', 'N', 'A', 'N', 'A', 'N', 'N', 'N', 'A', 'N', 'N',\n",
       "       'N', 'N', 'N', 'N', 'N', 'N', 'N', 'N', 'N', 'N', 'N', 'N', 'N',\n",
       "       'N', 'N', 'N', 'N', 'N', 'N', 'N', 'N', 'A', 'A', 'N', 'N', 'A',\n",
       "       'N', 'N', 'N', 'N', 'A', 'N', 'N', 'N', 'N', 'N', 'A', 'N', 'N',\n",
       "       'N', 'N', 'A', 'N', 'N', 'A', 'N', 'N', 'N', 'N', 'N', 'N', 'N',\n",
       "       'N', 'N', 'N', 'N', 'N', 'A', 'A', 'N', 'N', 'N', 'A', 'N', 'N',\n",
       "       'N', 'N', 'N', 'N', 'N', 'N', 'N', 'N', 'N', 'N', 'A', 'A', 'N',\n",
       "       'N', 'N', 'N', 'N', 'N', 'A', 'A', 'N', 'N', 'N', 'N', 'A', 'N',\n",
       "       'A', 'A', 'N', 'N', 'A', 'A', 'N', 'N', 'A', 'A', 'A', 'N', 'N',\n",
       "       'A', 'A', 'A', 'A', 'A', 'N', 'A', 'A', 'A', 'A', 'A', 'A', 'A',\n",
       "       'A', 'A', 'N', 'N', 'A', 'A', 'N', 'N', 'N', 'N', 'A', 'A', 'N',\n",
       "       'A', 'A', 'N', 'N', 'A', 'A', 'N', 'N', 'A', 'N', 'N', 'N', 'N',\n",
       "       'N', 'N', 'N', 'N', 'N', 'N', 'N', 'N', 'N', 'A', 'N', 'N', 'N',\n",
       "       'N', 'N', 'N', 'N', 'N', 'N', 'N', 'N', 'N', 'N', 'A', 'N', 'N',\n",
       "       'N', 'A', 'A', 'N', 'N', 'N', 'N', 'N', 'N', 'N', 'N', 'N', 'N',\n",
       "       'N', 'N', 'A', 'N', 'N', 'N', 'N', 'N', 'N', 'N', 'N', 'N', 'N',\n",
       "       'A', 'N', 'A', 'A', 'A', 'N', 'N', 'A', 'A', 'N', 'A', 'A', 'A',\n",
       "       'A', 'A', 'A', 'A', 'A', 'A', 'A', 'A', 'A', 'A', 'A', 'A', 'A',\n",
       "       'A', 'A', 'A', 'A', 'N', 'A', 'A', 'A', 'A', 'A', 'A', 'A', 'N',\n",
       "       'A', 'A', 'A', 'A', 'A', 'A', 'N', 'A', 'A', 'A', 'A', 'A', 'A',\n",
       "       'A', 'N', 'N', 'N', 'A', 'A', 'N', 'N', 'A', 'N', 'A', 'N', 'N',\n",
       "       'A', 'A', 'A', 'N', 'N', 'A', 'A', 'N', 'N', 'N', 'N', 'N', 'N',\n",
       "       'N', 'N', 'N', 'A', 'N', 'A', 'A', 'A', 'A', 'N', 'N', 'N', 'N',\n",
       "       'A', 'A', 'N', 'N', 'A', 'N', 'N', 'A', 'A', 'A', 'N', 'A', 'A',\n",
       "       'N', 'A', 'N', 'A', 'A', 'A', 'N', 'N', 'N', 'A', 'A', 'N', 'N',\n",
       "       'N', 'A', 'N', 'A', 'N', 'A', 'N', 'A', 'N', 'A', 'N', 'A', 'A',\n",
       "       'A', 'A', 'A', 'A', 'A', 'N', 'N', 'A', 'N', 'A', 'A', 'N', 'N',\n",
       "       'A', 'A', 'N', 'A', 'A', 'A', 'A', 'A', 'A', 'A', 'A', 'N', 'A',\n",
       "       'A', 'A', 'A', 'A', 'A', 'A', 'A', 'A', 'A', 'N', 'A', 'A', 'A',\n",
       "       'A', 'A', 'A', 'A', 'N', 'A', 'A', 'A', 'A', 'A', 'A', 'A', 'A',\n",
       "       'N', 'N', 'A', 'A', 'N', 'A', 'N', 'A', 'N', 'A', 'N'], \n",
       "      dtype='<U1')"
      ]
     },
     "execution_count": 7,
     "metadata": {},
     "output_type": "execute_result"
    }
   ],
   "source": [
    "preds"
   ]
  },
  {
   "cell_type": "code",
   "execution_count": null,
   "metadata": {
    "collapsed": true
   },
   "outputs": [],
   "source": []
  }
 ],
 "metadata": {
  "anaconda-cloud": {},
  "kernelspec": {
   "display_name": "Python [conda env:ecg]",
   "language": "python",
   "name": "conda-env-ecg-py"
  },
  "language_info": {
   "codemirror_mode": {
    "name": "ipython",
    "version": 3
   },
   "file_extension": ".py",
   "mimetype": "text/x-python",
   "name": "python",
   "nbconvert_exporter": "python",
   "pygments_lexer": "ipython3",
   "version": "3.5.2"
  }
 },
 "nbformat": 4,
 "nbformat_minor": 1
}
