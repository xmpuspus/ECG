{
 "cells": [
  {
   "cell_type": "code",
   "execution_count": 1,
   "metadata": {
    "collapsed": true
   },
   "outputs": [],
   "source": [
    "import sys\n",
    "sys.path.insert(0, '/Users/user/Documents/ecg_research/')"
   ]
  },
  {
   "cell_type": "code",
   "execution_count": 2,
   "metadata": {
    "collapsed": true
   },
   "outputs": [],
   "source": [
    "import numpy as np\n",
    "import matplotlib.pyplot as plt\n",
    "from sklearn.externals import joblib as jl\n",
    "from py_files import ecg_util\n",
    "%matplotlib inline\n"
   ]
  },
  {
   "cell_type": "code",
   "execution_count": 48,
   "metadata": {
    "collapsed": true
   },
   "outputs": [],
   "source": [
    "from sklearn.neural_network import MLPClassifier\n",
    "from sklearn.model_selection import train_test_split\n",
    "from sklearn.preprocessing import StandardScaler\n",
    "from sklearn.decomposition import PCA\n",
    "import wfdb as wf\n",
    "import scipy.signal as ss\n",
    "from sklearn.externals import joblib as jl\n",
    "from biosppy.signals import ecg as ecgsig\n",
    "from sklearn.decomposition import PCA\n",
    "from sklearn.preprocessing import StandardScaler\n",
    "import peakutils as pu"
   ]
  },
  {
   "cell_type": "code",
   "execution_count": 12,
   "metadata": {
    "collapsed": true
   },
   "outputs": [],
   "source": [
    "path_arr = '/Users/user/physionet.org/physiobank/database/cudb/'"
   ]
  },
  {
   "cell_type": "code",
   "execution_count": 32,
   "metadata": {
    "collapsed": false
   },
   "outputs": [],
   "source": [
    "patient = 'cu03'\n",
    "records = 'RECORDS'\n",
    "records_arr = np.loadtxt(path_arr + records, 'str')"
   ]
  },
  {
   "cell_type": "code",
   "execution_count": 33,
   "metadata": {
    "collapsed": false
   },
   "outputs": [],
   "source": [
    "records_arr = np.array([i[2:6] for i in records_arr])"
   ]
  },
  {
   "cell_type": "code",
   "execution_count": 34,
   "metadata": {
    "collapsed": false
   },
   "outputs": [
    {
     "data": {
      "text/plain": [
       "array(['cu01', 'cu02', 'cu03', 'cu04', 'cu05', 'cu06', 'cu07', 'cu08',\n",
       "       'cu09', 'cu10', 'cu11', 'cu12', 'cu13', 'cu14', 'cu15', 'cu16',\n",
       "       'cu17', 'cu18', 'cu19', 'cu20', 'cu21', 'cu22', 'cu23', 'cu24',\n",
       "       'cu25', 'cu26', 'cu27', 'cu28', 'cu29', 'cu30', 'cu31', 'cu32',\n",
       "       'cu33', 'cu34', 'cu35'], \n",
       "      dtype='<U4')"
      ]
     },
     "execution_count": 34,
     "metadata": {},
     "output_type": "execute_result"
    }
   ],
   "source": [
    "records_arr"
   ]
  },
  {
   "cell_type": "code",
   "execution_count": 35,
   "metadata": {
    "collapsed": true
   },
   "outputs": [],
   "source": [
    "f = 250 #Hz sampling rate\n",
    "t = 0.4 #s window\n",
    "window = int(f * t)"
   ]
  },
  {
   "cell_type": "code",
   "execution_count": 36,
   "metadata": {
    "collapsed": false
   },
   "outputs": [],
   "source": [
    "sig_temp, fields_temp = wf.rdsamp(path_arr + patient)\n",
    "ann_temp = wf.rdann(path_arr + patient, 'atr')"
   ]
  },
  {
   "cell_type": "markdown",
   "metadata": {},
   "source": [
    "# Curate/Separate from VFib and Non-Vfib"
   ]
  },
  {
   "cell_type": "code",
   "execution_count": 49,
   "metadata": {
    "collapsed": false
   },
   "outputs": [
    {
     "name": "stdout",
     "output_type": "stream",
     "text": [
      "cu01\n",
      "cu03\n",
      "cu04\n",
      "cu05\n",
      "cu06\n",
      "cu07\n",
      "cu08\n",
      "cu09\n",
      "cu10\n",
      "cu11\n",
      "cu12\n",
      "cu13\n",
      "cu16\n",
      "cu17\n",
      "cu18\n",
      "cu19\n",
      "cu22\n",
      "cu23\n",
      "cu24\n",
      "cu25\n",
      "cu26\n",
      "cu27\n",
      "cu30\n",
      "cu32\n",
      "cu33\n",
      "cu34\n"
     ]
    }
   ],
   "source": [
    "normal_ecgs_list, vfib_ecg_list, labels_list, vfib_idxs_list = [], [] ,[], []\n",
    "normal_ecgs_beat_list, vfib_ecgs_beat_list = [], []\n",
    "for i in records_arr: #load each patient's data\n",
    "    pat = i\n",
    "    sig, fields = wf.rdsamp(path_arr + i)\n",
    "    ann_temp = wf.rdann(path_arr + i, 'atr')\n",
    "    start_ann = '['\n",
    "    end_ann = ']'\n",
    "    if start_ann in ann_temp[1] and end_ann in ann_temp[1]:\n",
    "        ann_idxs = np.array(ann_temp[0])\n",
    "        ann_labels = np.array(ann_temp[1])\n",
    "        idx_temp_start = ann_idxs[np.where(ann_labels == '[')][0] #start of vfib\n",
    "        idx_temp_end = ann_idxs[np.where(ann_labels == ']')][0] #end of vfib\n",
    "        idxs_vfib = np.array([idx_temp_start, idx_temp_end])\n",
    "        ecg_temp = sig[:,0]\n",
    "        ECG_corr = ecg_util.baseline_correct(ecg_temp, f) #subtract baseline from ecg\n",
    "        ECG_corr_idx = np.linspace(0, np.shape(ECG_corr)[0], np.shape(ECG_corr)[0])\n",
    "        normal_ecg = ECG_corr[np.where(ECG_corr_idx < idx_temp_start)] #normal ecg signal\n",
    "        normal_ecg[np.where(np.isnan(normal_ecg))] = 0 #replace nans with 0\n",
    "        vfib_ecg = ECG_corr[idx_temp_start : idx_temp_end] #vfib ecg signal\n",
    "        vfib_ecg[np.where(np.isnan(vfib_ecg))] = 0 #replace nans with 0\n",
    "        normal_ecgs_list.append(normal_ecg) \n",
    "# #         anns_list.append(ann_idx)\n",
    "#         labels_list.append(ann_label)\n",
    "#         vfib_idxs_list.append(idxs_vfib)\n",
    "        vfib_ecg_list.append(vfib_ecg) \n",
    "        if len(normal_ecg) > 16 and len(vfib_ecg) > 16:\n",
    "            rpeaks_normal = np.array(ecgsig.hamilton_segmenter(normal_ecg, f)['rpeaks'])[2:-2] #rpeaks of normal\n",
    "            rpeaks_vfib = pu.indexes(vfib_ecg, min_dist=f * 0.15)[4:-4] #rpeaks of vfib using 0.15s min_dist\n",
    "#             rpeaks_vfib = np.array(ecgsig.hamilton_segmenter(vfib_ecg, f)['rpeaks'])[2:-2] #rpeaks of vfib\n",
    "#             print len(rpeaks_vfib)\n",
    "            if len(rpeaks_normal) > 0 and len(rpeaks_vfib) > 0:\n",
    "                beat_normal_ecg = np.array([normal_ecg[i - window: i + window] for i in rpeaks_normal]) #extract beats\n",
    "                beat_vfib_ecg = np.array([vfib_ecg[i - window: i + window] for i in rpeaks_vfib]) #extract beats\n",
    "                #store beats\n",
    "                \n",
    "    #             if not np.isnan(np.mean([len(i) for i in beat_normal_ecg])) and \\\n",
    "    #             not np.isnan(np.mean([len(i) for i in beat_vfib_ecg])):\n",
    "            \n",
    "                normal_ecgs_beat_list.append(beat_normal_ecg)\n",
    "                vfib_ecgs_beat_list.append(beat_vfib_ecg)\n",
    "                print (pat)\n",
    "\n"
   ]
  },
  {
   "cell_type": "code",
   "execution_count": 51,
   "metadata": {
    "collapsed": true
   },
   "outputs": [],
   "source": [
    "N_ECG = np.concatenate(normal_ecgs_beat_list)\n",
    "V_ECG = np.concatenate(vfib_ecgs_beat_list)"
   ]
  },
  {
   "cell_type": "markdown",
   "metadata": {},
   "source": [
    "# Normal ECG Beat"
   ]
  },
  {
   "cell_type": "code",
   "execution_count": 57,
   "metadata": {
    "collapsed": false
   },
   "outputs": [
    {
     "data": {
      "image/png": "[encoded data removed]",
      "text/plain": [
       "<matplotlib.figure.Figure at 0x11a9ad5f8>"
      ]
     },
     "metadata": {},
     "output_type": "display_data"
    }
   ],
   "source": [
    "plt.plot(np.mean(N_ECG,axis=0))\n",
    "plt.show()"
   ]
  },
  {
   "cell_type": "markdown",
   "metadata": {},
   "source": [
    "# VFIB Beat"
   ]
  },
  {
   "cell_type": "code",
   "execution_count": 59,
   "metadata": {
    "collapsed": false
   },
   "outputs": [
    {
     "data": {
      "image/png": "[encoded data removed]",
      "text/plain": [
       "<matplotlib.figure.Figure at 0x1155a2cc0>"
      ]
     },
     "metadata": {},
     "output_type": "display_data"
    }
   ],
   "source": [
    "plt.plot(np.mean(V_ECG,axis=0))\n",
    "plt.show()"
   ]
  },
  {
   "cell_type": "code",
   "execution_count": 58,
   "metadata": {
    "collapsed": false
   },
   "outputs": [],
   "source": [
    "# vfib_dict = {'N':N_ECG, 'V':V_ECG}\n",
    "# jl.dump(vfib_dict, '../ecg_research/Databases/VFIB_database.pickle')"
   ]
  },
  {
   "cell_type": "code",
   "execution_count": 116,
   "metadata": {
    "collapsed": true
   },
   "outputs": [],
   "source": [
    "N_anns = np.array(['N'] * len(N_ECG))\n",
    "V_anns = np.array(['V'] * len(V_ECG))"
   ]
  },
  {
   "cell_type": "code",
   "execution_count": 117,
   "metadata": {
    "collapsed": true
   },
   "outputs": [],
   "source": [
    "X = np.concatenate([N_ECG, V_ECG]) #shape\n",
    "y = np.concatenate([N_anns, V_anns])"
   ]
  },
  {
   "cell_type": "code",
   "execution_count": 118,
   "metadata": {
    "collapsed": false
   },
   "outputs": [
    {
     "name": "stdout",
     "output_type": "stream",
     "text": [
      "(23034, 200) (23034,)\n"
     ]
    }
   ],
   "source": [
    "print(X.shape, y.shape)"
   ]
  },
  {
   "cell_type": "code",
   "execution_count": 119,
   "metadata": {
    "collapsed": true
   },
   "outputs": [],
   "source": [
    "pca = PCA(n_components=10)\n",
    "X_new = pca.fit_transform(X)"
   ]
  },
  {
   "cell_type": "code",
   "execution_count": 120,
   "metadata": {
    "collapsed": true
   },
   "outputs": [],
   "source": [
    "# X_c = StandardScaler().fit_transform(X_new)\n",
    "X_train, X_test, y_train, y_test = train_test_split(X_new, y, test_size=.4, random_state=42)\n",
    "X_train = StandardScaler().fit_transform(X_train)\n",
    "X_test = StandardScaler().fit_transform(X_test)"
   ]
  },
  {
   "cell_type": "code",
   "execution_count": 121,
   "metadata": {
    "collapsed": true
   },
   "outputs": [],
   "source": [
    "best_classifier = MLPClassifier((100, 100, 100))\n",
    "best_classifier.fit(X_train, y_train)\n",
    "score = best_classifier.score(X_test, y_test)\n",
    "prediction = best_classifier.predict(X_test)"
   ]
  },
  {
   "cell_type": "code",
   "execution_count": 131,
   "metadata": {
    "collapsed": false
   },
   "outputs": [
    {
     "data": {
      "text/plain": [
       "['../ecg_research/Classifiers/VFIB_Classifier.sav']"
      ]
     },
     "execution_count": 131,
     "metadata": {},
     "output_type": "execute_result"
    }
   ],
   "source": [
    "jl.dump(best_classifier, '../ecg_research/Classifiers/VFIB_Classifier.sav')"
   ]
  },
  {
   "cell_type": "code",
   "execution_count": 122,
   "metadata": {
    "collapsed": false
   },
   "outputs": [
    {
     "data": {
      "text/plain": [
       "0.97178207076188405"
      ]
     },
     "execution_count": 122,
     "metadata": {},
     "output_type": "execute_result"
    }
   ],
   "source": [
    "score"
   ]
  },
  {
   "cell_type": "markdown",
   "metadata": {},
   "source": [
    "# Test on Specific Patient (whole duration)"
   ]
  },
  {
   "cell_type": "code",
   "execution_count": 123,
   "metadata": {
    "collapsed": true
   },
   "outputs": [],
   "source": [
    "vfib_patient_dict = jl.load('../ecg_research/Databases/VFIB_patients.pickle')"
   ]
  },
  {
   "cell_type": "code",
   "execution_count": 124,
   "metadata": {
    "collapsed": true
   },
   "outputs": [],
   "source": [
    "vfib_patient_test = vfib_patient_dict['cu01']"
   ]
  },
  {
   "cell_type": "code",
   "execution_count": 125,
   "metadata": {
    "collapsed": false
   },
   "outputs": [],
   "source": [
    "ecg = vfib_patient_test\n",
    "window = int(f * 0.4) #800ms beat\n",
    "ecg_new = ecg_util.baseline_correct(ecg, f)\n",
    "rpeaks = np.array(ecgsig.hamilton_segmenter(ecg_new, f)['rpeaks'])[2:-2] #detect rpeaks from ecg\n",
    "beats = np.array([ecg_new[i - window: i + window] for i in rpeaks])\n",
    "pca = PCA(n_components=10)\n",
    "beats_new = pca.fit_transform(beats)"
   ]
  },
  {
   "cell_type": "markdown",
   "metadata": {},
   "source": [
    "# Predicted as Normal"
   ]
  },
  {
   "cell_type": "code",
   "execution_count": 130,
   "metadata": {
    "collapsed": true
   },
   "outputs": [],
   "source": [
    "pred_pat = best_classifier.predict(beats_new)"
   ]
  },
  {
   "cell_type": "code",
   "execution_count": 126,
   "metadata": {
    "collapsed": false
   },
   "outputs": [
    {
     "data": {
      "text/plain": [
       "[<matplotlib.lines.Line2D at 0x121401d30>]"
      ]
     },
     "execution_count": 126,
     "metadata": {},
     "output_type": "execute_result"
    },
    {
     "data": {
      "image/png": "[encoded data removed]",
      "text/plain": [
       "<matplotlib.figure.Figure at 0x1216df7b8>"
      ]
     },
     "metadata": {},
     "output_type": "display_data"
    }
   ],
   "source": [
    "plt.plot(beats[np.where(pred_pat == '0')[0][0]])"
   ]
  },
  {
   "cell_type": "markdown",
   "metadata": {},
   "source": [
    "# Predicted as Vfib"
   ]
  },
  {
   "cell_type": "code",
   "execution_count": 127,
   "metadata": {
    "collapsed": false
   },
   "outputs": [
    {
     "data": {
      "text/plain": [
       "[<matplotlib.lines.Line2D at 0x121656470>]"
      ]
     },
     "execution_count": 127,
     "metadata": {},
     "output_type": "execute_result"
    },
    {
     "data": {
      "image/png": "[encoded data removed]",
      "text/plain": [
       "<matplotlib.figure.Figure at 0x121810908>"
      ]
     },
     "metadata": {},
     "output_type": "display_data"
    }
   ],
   "source": [
    "plt.plot(beats[np.where(pred_pat == '1')[0][0]])"
   ]
  },
  {
   "cell_type": "code",
   "execution_count": 128,
   "metadata": {
    "collapsed": false
   },
   "outputs": [],
   "source": []
  },
  {
   "cell_type": "code",
   "execution_count": null,
   "metadata": {
    "collapsed": true
   },
   "outputs": [],
   "source": []
  }
 ],
 "metadata": {
  "anaconda-cloud": {},
  "kernelspec": {
   "display_name": "Python [conda env:ecg]",
   "language": "python",
   "name": "conda-env-ecg-py"
  },
  "language_info": {
   "codemirror_mode": {
    "name": "ipython",
    "version": 3
   },
   "file_extension": ".py",
   "mimetype": "text/x-python",
   "name": "python",
   "nbconvert_exporter": "python",
   "pygments_lexer": "ipython3",
   "version": "3.5.2"
  }
 },
 "nbformat": 4,
 "nbformat_minor": 1
}
