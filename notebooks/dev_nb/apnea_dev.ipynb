{
 "cells": [
  {
   "cell_type": "code",
   "execution_count": 1,
   "metadata": {
    "collapsed": true
   },
   "outputs": [],
   "source": [
    "import sys\n",
    "sys.path.insert(0, '/Users/user/Documents/ecg_research/')"
   ]
  },
  {
   "cell_type": "code",
   "execution_count": 2,
   "metadata": {
    "collapsed": false
   },
   "outputs": [],
   "source": [
    "import numpy as np\n",
    "import matplotlib.pyplot as plt\n",
    "from sklearn.externals import joblib as jl\n",
    "from savvyecg import ecg_utils\n",
    "%matplotlib inline\n"
   ]
  },
  {
   "cell_type": "code",
   "execution_count": 5,
   "metadata": {
    "collapsed": true
   },
   "outputs": [],
   "source": [
    "from sklearn.neural_network import MLPClassifier\n",
    "from sklearn.model_selection import train_test_split\n",
    "from sklearn.preprocessing import StandardScaler\n",
    "from sklearn.decomposition import PCA\n",
    "import wfdb as wf\n",
    "import scipy.signal as ss\n",
    "from sklearn.externals import joblib as jl\n",
    "from biosppy.signals import ecg as ecgsig\n",
    "from sklearn.decomposition import PCA\n",
    "from sklearn.preprocessing import StandardScaler\n",
    "import peakutils as pu\n",
    "from scipy.interpolate import interp1d\n",
    "from sklearn.metrics import confusion_matrix as cf\n",
    "from imblearn.over_sampling import SMOTE"
   ]
  },
  {
   "cell_type": "code",
   "execution_count": 6,
   "metadata": {
    "collapsed": true
   },
   "outputs": [],
   "source": [
    "path = \"/Users/user/www.physionet.org/physiobank/database/apnea-ecg/\"\n",
    "records = \"RECORDS\"\n",
    "patients_arr = np.array(['a01','a02','a03','a04','a05','a06','a07','a08','a20', 'a19', 'a18', 'a10',\\\n",
    "                         'a11','a12', 'a13', 'a15', 'a16', 'c01', 'c02', 'c03', 'c04', 'c05','c06',\\\n",
    "                            'c07','c08','c09','c10', 'b01', 'b03', 'b04'])\n"
   ]
  },
  {
   "cell_type": "markdown",
   "metadata": {},
   "source": [
    "# Load Data"
   ]
  },
  {
   "cell_type": "code",
   "execution_count": 7,
   "metadata": {
    "collapsed": true
   },
   "outputs": [],
   "source": [
    "f = 100 #Hz\n",
    "window = 60 #s"
   ]
  },
  {
   "cell_type": "code",
   "execution_count": 8,
   "metadata": {
    "collapsed": false,
    "scrolled": true
   },
   "outputs": [
    {
     "name": "stdout",
     "output_type": "stream",
     "text": [
      "a01\n",
      "a02\n",
      "a03\n",
      "a04\n",
      "a05\n",
      "a06\n",
      "a07\n",
      "a08\n",
      "a20\n",
      "a19\n",
      "a18\n",
      "a10\n",
      "a11\n",
      "a12\n",
      "a13\n",
      "a15\n",
      "a16\n",
      "c01\n",
      "c02\n",
      "c03\n",
      "c04\n",
      "c05\n",
      "c06\n",
      "c07\n",
      "c08\n",
      "c09\n",
      "c10\n",
      "b01\n",
      "b03\n",
      "b04\n"
     ]
    }
   ],
   "source": [
    "ecg_list, label_list, index_list, RRint_list, rpeaks_list = [] ,[], [], [], []\n",
    "apnea_patients = {}\n",
    "for i in patients_arr:\n",
    "    patient = i\n",
    "    print (patient)\n",
    "    sig, fld = wf.rdsamp(path + i)\n",
    "    apn_all = wf.rdann(path + i, 'apn')\n",
    "    ecg_temp = sig[:,0] #ecg\n",
    "    ecg_corr = ecg_utils.baseline_correct(ecg_temp, f) #subtract baseline from ecg\n",
    "    idx_temp = apn_all[0][:-1] #exclude last index\n",
    "    label_temp = apn_all[1][:-1] #exclude last label\n",
    "    ecg_corr[np.where(ecg_corr < 0.01)] = 0\n",
    "    windowed_temp = np.array([ecg_corr[i : i + window * f] for i in idx_temp]) #window ecg per minute\n",
    "    rpeaks_temp = np.array([ecgsig.hamilton_segmenter(j, sampling_rate = 100)['rpeaks'] for j in windowed_temp]) #rpeaks\n",
    "    rrint_temp = np.array([np.diff(i) for i in rpeaks_temp])\n",
    "    ecg_list.append(windowed_temp)\n",
    "    label_list.append(label_temp)\n",
    "    index_list.append(idx_temp)\n",
    "    rpeaks_list.append(rpeaks_temp)\n",
    "    RRint_list.append(rrint_temp)\n",
    "#     window_list.append(windowed_temp)\n",
    "    apnea_patients[str(patient)] = ecg_temp\n",
    "    \n",
    "    "
   ]
  },
  {
   "cell_type": "markdown",
   "metadata": {},
   "source": [
    "# Remove segments with ugly ECG signals (signals without Rpeaks)"
   ]
  },
  {
   "cell_type": "code",
   "execution_count": 9,
   "metadata": {
    "collapsed": false
   },
   "outputs": [],
   "source": [
    "ecgs = np.concatenate(ecg_list)\n",
    "labels = np.concatenate(label_list)\n",
    "idxs = np.concatenate(index_list)\n",
    "RR_int = np.concatenate(RRint_list)\n",
    "rpeaks_idxs = np.concatenate(rpeaks_list)\n",
    "peak_count = np.array([len(i) for i in rpeaks_idxs])\n",
    "#remove segments without any peaks\n",
    "n_peaks = 30\n",
    "ecgs = ecgs[np.where(peak_count > n_peaks)]\n",
    "labels = labels[np.where(peak_count > n_peaks)]\n",
    "idxs = idxs[np.where(peak_count > n_peaks)]\n",
    "RR_int = RR_int[np.where(peak_count > n_peaks)]\n",
    "rpeaks_idxs = rpeaks_idxs[np.where(peak_count > n_peaks)]\n",
    "peak_count_nz = peak_count[np.where(peak_count > n_peaks)]\n"
   ]
  },
  {
   "cell_type": "code",
   "execution_count": 10,
   "metadata": {
    "collapsed": false
   },
   "outputs": [
    {
     "data": {
      "text/plain": [
       "(14540, 6000)"
      ]
     },
     "execution_count": 10,
     "metadata": {},
     "output_type": "execute_result"
    }
   ],
   "source": [
    "ecgs.shape"
   ]
  },
  {
   "cell_type": "code",
   "execution_count": 19,
   "metadata": {
    "collapsed": true
   },
   "outputs": [],
   "source": [
    "# apnea_dict = {'ECG':ecgs, 'Indices':idxs, 'Labels':labels, 'RR int': RR_int, 'Rpeak Indices': rpeaks_idxs, 'Peak Count': peak_count_nz}\n",
    "# jl.dump(apnea_dict, '../ecg_research/Databases/Apnea_database.pickle')"
   ]
  },
  {
   "cell_type": "markdown",
   "metadata": {},
   "source": [
    "# Calculate Features"
   ]
  },
  {
   "cell_type": "code",
   "execution_count": 19,
   "metadata": {
    "collapsed": true
   },
   "outputs": [],
   "source": [
    "def show_confusion_matrix(C,class_labels=['0','1']):\n",
    "    \"\"\"\n",
    "    C: ndarray, shape (2,2) as given by scikit-learn confusion_matrix function\n",
    "    class_labels: list of strings, default simply labels 0 and 1.\n",
    "\n",
    "    Draws confusion matrix with associated metrics.\n",
    "    \"\"\"\n",
    "#     import matplotlib.pyplot as plt\n",
    "#     import numpy as np\n",
    "    \n",
    "    assert C.shape == (2,2), \"Confusion matrix should be from binary classification only.\"\n",
    "    \n",
    "    # true negative, false positive, etc...\n",
    "    tn = C[0,0]; fp = C[0,1]; fn = C[1,0]; tp = C[1,1];\n",
    "\n",
    "    NP = fn+tp # Num positive examples\n",
    "    NN = tn+fp # Num negative examples\n",
    "    N  = NP+NN\n",
    "\n",
    "    fig = plt.figure(figsize=(8,8))\n",
    "    ax  = fig.add_subplot(111)\n",
    "    ax.imshow(C, interpolation='nearest', cmap=plt.cm.gray)\n",
    "\n",
    "    # Draw the grid boxes\n",
    "    ax.set_xlim(-0.5,2.5)\n",
    "    ax.set_ylim(3.5,-0.5)\n",
    "    ax.plot([-0.5,2.5],[0.5,0.5], '-k', lw=2)\n",
    "    ax.plot([-0.5,2.5],[1.5,1.5], '-k', lw=2)\n",
    "    ax.plot([-0.5,2.5],[2.5,2.5], '-k', lw=2)\n",
    "    ax.plot([0.5,0.5],[-0.5,2.5], '-k', lw=2)\n",
    "    ax.plot([1.5,1.5],[-0.5,2.5], '-k', lw=2)\n",
    "    ax.plot([3.5,3.5],[-0.5,2.5], '-k', lw=2)\n",
    "    \n",
    "#     ax.plot([1.5,1.5],[-0.5,2.5], '-k', lw=2)\n",
    "    # Set xlabels\n",
    "    ax.set_xlabel('Predicted Label', fontsize=16)\n",
    "    ax.set_xticks([0,1,2])\n",
    "    ax.set_xticklabels(class_labels + [''])\n",
    "    ax.xaxis.set_label_position('top')\n",
    "    ax.xaxis.tick_top()\n",
    "    # These coordinate might require some tinkering. Ditto for y, below.\n",
    "    ax.xaxis.set_label_coords(0.34,1.06)\n",
    "\n",
    "    # Set ylabels\n",
    "    ax.set_ylabel('True Label', fontsize=16, rotation=90)\n",
    "    ax.set_yticklabels(class_labels + [''],rotation=90)\n",
    "    ax.set_yticks([0,1,2])\n",
    "    ax.yaxis.set_label_coords(-0.09,0.65)\n",
    "\n",
    "\n",
    "    # Fill in initial metrics: tp, tn, etc...\n",
    "    ax.text(0,0,\n",
    "            'True Neg: %d\\n(Num Neg: %d)'%(tn,NN),\n",
    "            va='center',\n",
    "            ha='center',\n",
    "            bbox=dict(fc='w',boxstyle='round,pad=1'))\n",
    "\n",
    "    ax.text(0,1,\n",
    "            'False Neg: %d'%fn,\n",
    "            va='center',\n",
    "            ha='center',\n",
    "            bbox=dict(fc='w',boxstyle='round,pad=1'))\n",
    "\n",
    "    ax.text(1,0,\n",
    "            'False Pos: %d'%fp,\n",
    "            va='center',\n",
    "            ha='center',\n",
    "            bbox=dict(fc='w',boxstyle='round,pad=1'))\n",
    "\n",
    "\n",
    "    ax.text(1,1,\n",
    "            'True Pos: %d\\n(Num Pos: %d)'%(tp,NP),\n",
    "            va='center',\n",
    "            ha='center',\n",
    "            bbox=dict(fc='w',boxstyle='round,pad=1'))\n",
    "\n",
    "    # Fill in secondary metrics: accuracy, true pos rate, etc...\n",
    "    ax.text(2,0,\n",
    "            'False Pos Rate: %.2f'%(fp / (fp+tn+0.)),\n",
    "            va='center',\n",
    "            ha='center',\n",
    "            bbox=dict(fc='w',boxstyle='round,pad=1'))\n",
    "\n",
    "    ax.text(2,1,\n",
    "            'True Pos Rate: %.2f'%(tp / (tp+fn+0.)),\n",
    "            va='center',\n",
    "            ha='center',\n",
    "            bbox=dict(fc='w',boxstyle='round,pad=1'))\n",
    "\n",
    "    ax.text(2,2,\n",
    "            'Accuracy: %.2f'%((tp+tn+0.)/N),\n",
    "            va='center',\n",
    "            ha='center',\n",
    "            bbox=dict(fc='w',boxstyle='round,pad=1'))\n",
    "\n",
    "    ax.text(0,2,\n",
    "            'Neg Pred Val: %.2f'%(1-fn/(fn+tn+0.)),\n",
    "            va='center',\n",
    "            ha='center',\n",
    "            bbox=dict(fc='w',boxstyle='round,pad=1'))\n",
    "\n",
    "    ax.text(1,2,\n",
    "            'Pos Pred Val: %.2f'%(tp/(tp+fp+0.)),\n",
    "            va='center',\n",
    "            ha='center',\n",
    "            bbox=dict(fc='w',boxstyle='round,pad=1'))\n",
    "    ax.text(0,3,\n",
    "            'Sensitivity: %.2f'%(tp*1./(tp+fn)),\n",
    "            va='center',\n",
    "            ha='center',\n",
    "            bbox=dict(fc='w',boxstyle='round,pad=1'))\n",
    "    ax.text(1,3,\n",
    "            'Specificity: %.2f'%(tn*1./(fp+tn)),\n",
    "            va='center',\n",
    "            ha='center',\n",
    "            bbox=dict(fc='w',boxstyle='round,pad=1'))\n",
    "\n",
    "\n",
    "    plt.tight_layout()\n",
    "    plt.show()\n",
    "\n",
    "def EDR_all(ecgs, rpeaks_idxs, peak_count_nz):\n",
    "    EDR_list = []\n",
    "    for i in range(rpeaks_idxs.shape[0]):\n",
    "        \n",
    "        cs_rpeak = interp1d(rpeaks_idxs[i], ecgs[i][rpeaks_idxs[i]])\n",
    "        min_x = np.min(rpeaks_idxs[i])\n",
    "        max_x = np.max(rpeaks_idxs[i])\n",
    "        n = np.max(peak_count_nz)\n",
    "        t = np.linspace(min_x, max_x, n)\n",
    "        edr_ = cs_rpeak(t)\n",
    "        edr_ -= np.mean(edr_) #center the signal\n",
    "        #edr_, _ = edr(ecgs[i], rpeaks_idxs[i])\n",
    "        EDR_list.append(edr_)\n",
    "    EDR = np.array(EDR_list)\n",
    "    return EDR\n",
    "def iqr(x):\n",
    "    q75, q25 = np.percentile(x, [75 ,25])\n",
    "    iqr = q75 - q25\n",
    "    return iqr\n",
    "\n",
    "def mad(x):\n",
    "    mean_x = np.mean(x)\n",
    "    mean_adj = np.abs(x - mean_x)\n",
    "    return np.mean(mean_adj)\n",
    "def sample_entropy(a):\n",
    "    return np.abs(a[2] - a).max(axis=0)\n",
    "\n",
    "    \n",
    "def calculate_features(ecg_wind, rpeaks, peak_count_new, RR_int, f = 100):\n",
    "    n = 5e-2  #in seconds\n",
    "    edr_sig = EDR_all(ecg_wind, rpeaks, peak_count_new)\n",
    "    mean_RR = np.array(list(map(np.mean, RR_int)))\n",
    "    std_RR = np.array(list(map(np.std, RR_int)))\n",
    "    NN50_1 = np.array([np.sum(np.diff(i) < f*n) for i in RR_int])\n",
    "    NN50_2 = np.array([np.sum(np.diff(i) > f*n) for i in RR_int])\n",
    "    pNN50_1 = np.divide(NN50_1, peak_count_new, dtype = float)\n",
    "    pNN50_2 = np.divide(NN50_2, peak_count_new, dtype = float)\n",
    "    max_RR = np.array(list(map(np.max, RR_int)))\n",
    "    min_RR = np.array(list(map(np.min, RR_int)))\n",
    "    SDSD = np.array(list(map(np.std, np.array([np.diff(i) for i in RR_int]))))\n",
    "    median_RR = np.array(list(map(np.median, RR_int)))\n",
    "    RMSSD = np.array(list(map(lambda x: np.sqrt(np.mean(np.square(x))), np.array([np.diff(i) for i in RR_int]))))\n",
    "    iqr_RR = np.array(list(map(iqr, RR_int)))\n",
    "    mad_RR = np.array(list(map(mad, RR_int)))\n",
    "    sp_RRint = np.array(list(map(sample_entropy, RR_int)))\n",
    "    psd = np.array(list(map(lambda x: np.abs(np.fft.fft(x)), edr_sig)))\n",
    "    mean_EDR = np.array(list(map(np.mean, edr_sig)))\n",
    "    std_EDR = np.array(list(map(np.std, edr_sig)))\n",
    "    sp_EDR = np.array(list(map(sample_entropy, edr_sig)))\n",
    "    #PCA\n",
    "    pca = PCA(n_components=20)\n",
    "    EDR_new = pca.fit_transform(edr_sig)\n",
    "    psd_new = pca.fit_transform(psd)\n",
    "    X = np.column_stack([peak_count_new, mean_RR, std_RR, NN50_1, NN50_2, pNN50_1, pNN50_2, EDR_new, psd_new, \\\n",
    "                    mean_EDR, std_EDR, sp_EDR, sp_RRint, max_RR, min_RR, SDSD, median_RR, RMSSD, mad_RR, iqr_RR])\n",
    "    \n",
    "    return X"
   ]
  },
  {
   "cell_type": "code",
   "execution_count": 20,
   "metadata": {
    "collapsed": false
   },
   "outputs": [],
   "source": [
    "X = calculate_features(ecgs, rpeaks_idxs, peak_count_nz, RR_int, f = 100)\n",
    "y = labels"
   ]
  },
  {
   "cell_type": "code",
   "execution_count": 23,
   "metadata": {
    "collapsed": false
   },
   "outputs": [
    {
     "name": "stdout",
     "output_type": "stream",
     "text": [
      "(14540, 58) (14540,)\n"
     ]
    }
   ],
   "source": [
    "print (X.shape, y.shape)"
   ]
  },
  {
   "cell_type": "markdown",
   "metadata": {},
   "source": [
    "# Oversample Minority using SMOTE"
   ]
  },
  {
   "cell_type": "code",
   "execution_count": 24,
   "metadata": {
    "collapsed": false
   },
   "outputs": [],
   "source": [
    "sm = SMOTE(kind='svm')\n",
    "X_c = StandardScaler().fit_transform(X)\n",
    "X_train, X_test, y_train, y_test = train_test_split(X_c, y, test_size=.4, random_state=42)\n",
    "X_tr_res, y_tr_res = sm.fit_sample(X_train, y_train)\n",
    "\n",
    "\n"
   ]
  },
  {
   "cell_type": "code",
   "execution_count": 25,
   "metadata": {
    "collapsed": false
   },
   "outputs": [
    {
     "name": "stdout",
     "output_type": "stream",
     "text": [
      "(8724, 58) (8724,) (10908, 58) (10908,)\n"
     ]
    }
   ],
   "source": [
    "print (X_train.shape, y_train.shape, X_tr_res.shape, y_tr_res.shape)"
   ]
  },
  {
   "cell_type": "markdown",
   "metadata": {},
   "source": [
    "# Train Model"
   ]
  },
  {
   "cell_type": "code",
   "execution_count": 26,
   "metadata": {
    "collapsed": false
   },
   "outputs": [
    {
     "name": "stdout",
     "output_type": "stream",
     "text": [
      "0.863308115543\n",
      "[[1870  291]\n",
      " [ 504 3151]]\n"
     ]
    }
   ],
   "source": [
    "NN = MLPClassifier(alpha = 1)\n",
    "NN.fit(X_tr_res, y_tr_res)\n",
    "score = NN.score(X_test, y_test)\n",
    "prediction = NN.predict(X_test)\n",
    "print (score)\n",
    "print (cf(y_test, prediction))"
   ]
  },
  {
   "cell_type": "code",
   "execution_count": 27,
   "metadata": {
    "collapsed": false
   },
   "outputs": [
    {
     "data": {
      "image/png": "[encoded data removed]",
      "text/plain": [
       "<matplotlib.figure.Figure at 0x111380668>"
      ]
     },
     "metadata": {},
     "output_type": "display_data"
    }
   ],
   "source": [
    "show_confusion_matrix(cf(y_test, prediction))"
   ]
  },
  {
   "cell_type": "code",
   "execution_count": null,
   "metadata": {
    "collapsed": true
   },
   "outputs": [],
   "source": []
  }
 ],
 "metadata": {
  "anaconda-cloud": {},
  "kernelspec": {
   "display_name": "Python [conda env:ecg]",
   "language": "python",
   "name": "conda-env-ecg-py"
  },
  "language_info": {
   "codemirror_mode": {
    "name": "ipython",
    "version": 3
   },
   "file_extension": ".py",
   "mimetype": "text/x-python",
   "name": "python",
   "nbconvert_exporter": "python",
   "pygments_lexer": "ipython3",
   "version": "3.5.2"
  }
 },
 "nbformat": 4,
 "nbformat_minor": 1
}
