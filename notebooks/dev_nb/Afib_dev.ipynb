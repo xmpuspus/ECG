{
 "cells": [
  {
   "cell_type": "code",
   "execution_count": 1,
   "metadata": {
    "collapsed": true
   },
   "outputs": [],
   "source": [
    "import sys\n",
    "sys.path.insert(0, '/Users/user/Documents/ecg_research/')"
   ]
  },
  {
   "cell_type": "code",
   "execution_count": 2,
   "metadata": {
    "collapsed": true
   },
   "outputs": [],
   "source": [
    "import numpy as np\n",
    "import matplotlib.pyplot as plt\n",
    "from sklearn.externals import joblib as jl\n",
    "from py_files import ecg_util\n",
    "%matplotlib inline\n"
   ]
  },
  {
   "cell_type": "code",
   "execution_count": 2,
   "metadata": {
    "collapsed": true
   },
   "outputs": [],
   "source": [
    "from sklearn.neural_network import MLPClassifier\n",
    "from sklearn.model_selection import train_test_split\n",
    "from sklearn.preprocessing import StandardScaler\n",
    "from sklearn.decomposition import PCA\n",
    "import wfdb as wf\n",
    "import scipy.signal as ss\n",
    "from sklearn.externals import joblib as jl\n",
    "from biosppy.signals import ecg as ecgsig\n",
    "from sklearn.decomposition import PCA\n",
    "from sklearn.preprocessing import StandardScaler\n",
    "import peakutils as pu"
   ]
  },
  {
   "cell_type": "code",
   "execution_count": 3,
   "metadata": {
    "collapsed": true
   },
   "outputs": [],
   "source": [
    "path_arr = '/Users/user/physionet.org/physiobank/database/ltafdb/'"
   ]
  },
  {
   "cell_type": "code",
   "execution_count": 12,
   "metadata": {
    "collapsed": true
   },
   "outputs": [],
   "source": [
    "patient = '01'\n",
    "records = 'RECORDS'\n",
    "records_arr = np.loadtxt(path_arr + records, 'str')\n",
    "records_arr = np.array([i[2:4] for i in records_arr])"
   ]
  },
  {
   "cell_type": "code",
   "execution_count": 13,
   "metadata": {
    "collapsed": false
   },
   "outputs": [
    {
     "data": {
      "text/plain": [
       "array(['00', '01', '03', '05', '06', '07', '08', '10', '10', '10', '10',\n",
       "       '10', '10', '10', '11', '11', '11', '11', '11', '11', '11', '11',\n",
       "       '11', '11', '11', '12', '12', '12', '12', '13', '15', '16', '17',\n",
       "       '18', '19', '20', '20', '20', '20', '20', '20', '20', '20', '20',\n",
       "       '20', '21', '22', '23', '24', '25', '26', '28', '30', '32', '33',\n",
       "       '34', '35', '37', '38', '39', '42', '43', '44', '45', '47', '48',\n",
       "       '49', '51', '53', '54', '55', '56', '58', '60', '62', '64', '65',\n",
       "       '68', '69', '70', '71', '72', '74', '75'], \n",
       "      dtype='<U2')"
      ]
     },
     "execution_count": 13,
     "metadata": {},
     "output_type": "execute_result"
    }
   ],
   "source": [
    "records_arr"
   ]
  },
  {
   "cell_type": "code",
   "execution_count": 14,
   "metadata": {
    "collapsed": false
   },
   "outputs": [
    {
     "data": {
      "text/plain": [
       "(84,)"
      ]
     },
     "execution_count": 14,
     "metadata": {},
     "output_type": "execute_result"
    }
   ],
   "source": [
    "records_arr.shape"
   ]
  },
  {
   "cell_type": "code",
   "execution_count": 16,
   "metadata": {
    "collapsed": true
   },
   "outputs": [],
   "source": [
    "f = 128 #Hz\n",
    "window = int(0.4 * f) #second half-window"
   ]
  },
  {
   "cell_type": "markdown",
   "metadata": {},
   "source": [
    "# Curating/Separating AF from Non-AF"
   ]
  },
  {
   "cell_type": "code",
   "execution_count": 18,
   "metadata": {
    "collapsed": false
   },
   "outputs": [
    {
     "name": "stdout",
     "output_type": "stream",
     "text": [
      "06\n",
      "38\n",
      "42\n",
      "72\n"
     ]
    }
   ],
   "source": [
    "af_list, n_list = [], []\n",
    "patient_dict = {}\n",
    "for i in records_arr:\n",
    "    pat = i\n",
    "    sig, fields = wf.rdsamp(path_arr + i)\n",
    "    ann_temp = wf.rdann(path_arr + i, 'qrs')\n",
    "    arr_ann = np.array(ann_temp[1])\n",
    "    arr_idx = np.array(ann_temp[0])\n",
    "    ecg = sig[:,0]\n",
    "    ecg_idx = np.linspace(0, ecg.shape[0], ecg.shape[0])\n",
    "    if 'T' in arr_ann:\n",
    "        arr_ann[np.where(arr_ann == 'N')] = 0\n",
    "        arr_ann[np.where(arr_ann == 'T')] = 1\n",
    "        T_idx = arr_idx[np.where(arr_ann == '1')][0]\n",
    "#         AF_idx = np.where(ecg_idx < T_idx)\n",
    "#         N_idx = np.where(ecg_idx > T_idx)\n",
    "        af_peak_idx = arr_idx[np.where(arr_idx < T_idx)]\n",
    "        n_peak_idx = arr_idx[np.where(arr_idx > T_idx)]\n",
    "        af = np.array([ecg[i - window: i + window] for i in af_peak_idx[100:-100]])\n",
    "        n = np.array([ecg[i - window: i + window] for i in n_peak_idx[100:-100]])\n",
    "        num_af, _ = af.shape\n",
    "        num_n, _ = n.shape\n",
    "        num_samples = 10000\n",
    "        if num_af > num_samples and num_n > num_samples:\n",
    "        \n",
    "            af_list.append(af[:num_samples])\n",
    "            n_list.append(n[:num_samples])\n",
    "        else:\n",
    "            af_list.append(af)\n",
    "            n_list.append(n)\n",
    "            patient_dict[pat] = ecg\n",
    "            print (pat)\n",
    "            \n",
    "        \n"
   ]
  },
  {
   "cell_type": "code",
   "execution_count": 19,
   "metadata": {
    "collapsed": true
   },
   "outputs": [],
   "source": [
    "af_arr = np.concatenate(af_list)\n",
    "n_arr = np.concatenate(n_list)"
   ]
  },
  {
   "cell_type": "code",
   "execution_count": 20,
   "metadata": {
    "collapsed": true
   },
   "outputs": [],
   "source": [
    "# ltafdb_dict = {'AF':af_arr, 'N':n_arr}\n",
    "# jl.dump(ltafdb_dict, '../ecg_research/Databases/AFIB_database.pickle')"
   ]
  },
  {
   "cell_type": "code",
   "execution_count": 21,
   "metadata": {
    "collapsed": false
   },
   "outputs": [
    {
     "name": "stdout",
     "output_type": "stream",
     "text": [
      "(278399, 102) (686224, 102)\n"
     ]
    }
   ],
   "source": [
    "print (af_arr.shape, n_arr.shape)"
   ]
  },
  {
   "cell_type": "code",
   "execution_count": 22,
   "metadata": {
    "collapsed": true
   },
   "outputs": [],
   "source": [
    "af_label = np.array(['1']* af_arr.shape[0])\n",
    "n_label = np.array(['0']* n_arr.shape[0])"
   ]
  },
  {
   "cell_type": "code",
   "execution_count": 23,
   "metadata": {
    "collapsed": true
   },
   "outputs": [],
   "source": [
    "X_ = np.concatenate([af_arr, n_arr])\n",
    "y_ = np.concatenate([af_label, n_label])"
   ]
  },
  {
   "cell_type": "code",
   "execution_count": 24,
   "metadata": {
    "collapsed": true
   },
   "outputs": [],
   "source": [
    "pca = PCA(n_components=20)\n",
    "X_new_ = pca.fit_transform(X_)"
   ]
  },
  {
   "cell_type": "code",
   "execution_count": 26,
   "metadata": {
    "collapsed": false
   },
   "outputs": [
    {
     "data": {
      "text/plain": [
       "(964623, 20)"
      ]
     },
     "execution_count": 26,
     "metadata": {},
     "output_type": "execute_result"
    }
   ],
   "source": [
    "X_new_.shape"
   ]
  },
  {
   "cell_type": "code",
   "execution_count": 27,
   "metadata": {
    "collapsed": true
   },
   "outputs": [],
   "source": [
    "# X_c = StandardScaler().fit_transform(X_new)\n",
    "X_train, X_test, y_train, y_test = train_test_split(X_new_, y_, test_size=.4, random_state=42)\n",
    "X_train = StandardScaler().fit_transform(X_train)\n",
    "X_test = StandardScaler().fit_transform(X_test)"
   ]
  },
  {
   "cell_type": "code",
   "execution_count": 28,
   "metadata": {
    "collapsed": true
   },
   "outputs": [],
   "source": [
    "best_classifier = MLPClassifier((100, 100, 100))\n",
    "best_classifier.fit(X_train, y_train)\n",
    "score = best_classifier.score(X_test, y_test)"
   ]
  },
  {
   "cell_type": "markdown",
   "metadata": {},
   "source": [
    "# Test on Specific Patient"
   ]
  },
  {
   "cell_type": "code",
   "execution_count": 29,
   "metadata": {
    "collapsed": true
   },
   "outputs": [],
   "source": [
    "afib_patient_dict = jl.load('/Users/user/Documents/ecg_research/Databases/AFIB_patients.pickle')"
   ]
  },
  {
   "cell_type": "code",
   "execution_count": 46,
   "metadata": {
    "collapsed": false
   },
   "outputs": [],
   "source": [
    "afib_patient_test = afib_patient_dict[b'06'][60000:120000]"
   ]
  },
  {
   "cell_type": "code",
   "execution_count": 47,
   "metadata": {
    "collapsed": false
   },
   "outputs": [],
   "source": [
    "f = 120\n",
    "ecg = afib_patient_test\n",
    "window = int(f * 0.4) #800ms beat\n",
    "ecg_new = ecg_util.baseline_correct(ecg, f)\n",
    "rpeaks = np.array(ecgsig.hamilton_segmenter(ecg_new, f)['rpeaks'])[2:-2] #detect rpeaks from ecg\n",
    "beats = np.array([ecg_new[i - window: i + window] for i in rpeaks])\n",
    "pca = PCA(n_components=20)\n",
    "beats_new = pca.fit_transform(beats)"
   ]
  },
  {
   "cell_type": "code",
   "execution_count": 48,
   "metadata": {
    "collapsed": true
   },
   "outputs": [],
   "source": [
    "pred_pat = best_classifier.predict(beats_new)"
   ]
  },
  {
   "cell_type": "markdown",
   "metadata": {},
   "source": [
    "### Predicted as Normal Beat"
   ]
  },
  {
   "cell_type": "code",
   "execution_count": 49,
   "metadata": {
    "collapsed": false
   },
   "outputs": [
    {
     "data": {
      "text/plain": [
       "[<matplotlib.lines.Line2D at 0x1368cd240>]"
      ]
     },
     "execution_count": 49,
     "metadata": {},
     "output_type": "execute_result"
    },
    {
     "data": {
      "image/png": "[encoded data removed]",
      "text/plain": [
       "<matplotlib.figure.Figure at 0x104222128>"
      ]
     },
     "metadata": {},
     "output_type": "display_data"
    }
   ],
   "source": [
    "plt.plot(beats[np.where(pred_pat == '0')[0][0]])"
   ]
  },
  {
   "cell_type": "markdown",
   "metadata": {},
   "source": [
    "### Predicted as Afib Beat"
   ]
  },
  {
   "cell_type": "code",
   "execution_count": 50,
   "metadata": {
    "collapsed": false
   },
   "outputs": [
    {
     "data": {
      "text/plain": [
       "[<matplotlib.lines.Line2D at 0x1367c9080>]"
      ]
     },
     "execution_count": 50,
     "metadata": {},
     "output_type": "execute_result"
    },
    {
     "data": {
      "image/png": "[encoded data removed]",
      "text/plain": [
       "<matplotlib.figure.Figure at 0x136834b38>"
      ]
     },
     "metadata": {},
     "output_type": "display_data"
    }
   ],
   "source": [
    "plt.plot(beats[np.where(pred_pat == '1')[0][0]])"
   ]
  },
  {
   "cell_type": "code",
   "execution_count": null,
   "metadata": {
    "collapsed": true
   },
   "outputs": [],
   "source": []
  }
 ],
 "metadata": {
  "anaconda-cloud": {},
  "kernelspec": {
   "display_name": "Python [conda env:ecg]",
   "language": "python",
   "name": "conda-env-ecg-py"
  },
  "language_info": {
   "codemirror_mode": {
    "name": "ipython",
    "version": 3
   },
   "file_extension": ".py",
   "mimetype": "text/x-python",
   "name": "python",
   "nbconvert_exporter": "python",
   "pygments_lexer": "ipython3",
   "version": "3.5.2"
  }
 },
 "nbformat": 4,
 "nbformat_minor": 1
}
