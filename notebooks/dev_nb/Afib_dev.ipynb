{
 "cells": [
  {
   "cell_type": "code",
   "execution_count": 1,
   "metadata": {
    "collapsed": true
   },
   "outputs": [],
   "source": [
    "import sys\n",
    "sys.path.insert(0, '/Users/user/Documents/ecg_research/')"
   ]
  },
  {
   "cell_type": "code",
   "execution_count": 4,
   "metadata": {
    "collapsed": false
   },
   "outputs": [],
   "source": [
    "import numpy as np\n",
    "import matplotlib.pyplot as plt\n",
    "from sklearn.externals import joblib as jl\n",
    "from savvyecg import ecg_utils as ecg_util\n",
    "%matplotlib inline\n"
   ]
  },
  {
   "cell_type": "code",
   "execution_count": 28,
   "metadata": {
    "collapsed": true
   },
   "outputs": [],
   "source": [
    "from sklearn.neural_network import MLPClassifier\n",
    "from sklearn.model_selection import train_test_split\n",
    "from sklearn.preprocessing import StandardScaler\n",
    "from sklearn.decomposition import PCA\n",
    "import wfdb as wf\n",
    "import scipy.signal as ss\n",
    "from sklearn.externals import joblib as jl\n",
    "from biosppy.signals import ecg as ecgsig\n",
    "from sklearn.decomposition import PCA\n",
    "from sklearn.preprocessing import StandardScaler\n",
    "import peakutils as pu\n",
    "from sklearn.metrics import confusion_matrix as cf\n",
    "from sklearn.metrics import precision_recall_curve\n",
    "from sklearn.metrics import average_precision_score\n",
    "from itertools import cycle"
   ]
  },
  {
   "cell_type": "code",
   "execution_count": 6,
   "metadata": {
    "collapsed": true
   },
   "outputs": [],
   "source": [
    "path_arr = '/Users/user/physionet.org/physiobank/database/ltafdb/'"
   ]
  },
  {
   "cell_type": "code",
   "execution_count": 7,
   "metadata": {
    "collapsed": true
   },
   "outputs": [],
   "source": [
    "patient = '01'\n",
    "records = 'RECORDS'\n",
    "records_arr = np.loadtxt(path_arr + records, 'str')\n",
    "records_arr = np.array([i[2:4] for i in records_arr])"
   ]
  },
  {
   "cell_type": "code",
   "execution_count": 8,
   "metadata": {
    "collapsed": false
   },
   "outputs": [
    {
     "data": {
      "text/plain": [
       "array(['00', '01', '03', '05', '06', '07', '08', '10', '10', '10', '10',\n",
       "       '10', '10', '10', '11', '11', '11', '11', '11', '11', '11', '11',\n",
       "       '11', '11', '11', '12', '12', '12', '12', '13', '15', '16', '17',\n",
       "       '18', '19', '20', '20', '20', '20', '20', '20', '20', '20', '20',\n",
       "       '20', '21', '22', '23', '24', '25', '26', '28', '30', '32', '33',\n",
       "       '34', '35', '37', '38', '39', '42', '43', '44', '45', '47', '48',\n",
       "       '49', '51', '53', '54', '55', '56', '58', '60', '62', '64', '65',\n",
       "       '68', '69', '70', '71', '72', '74', '75'], \n",
       "      dtype='<U2')"
      ]
     },
     "execution_count": 8,
     "metadata": {},
     "output_type": "execute_result"
    }
   ],
   "source": [
    "records_arr"
   ]
  },
  {
   "cell_type": "code",
   "execution_count": 9,
   "metadata": {
    "collapsed": false
   },
   "outputs": [
    {
     "data": {
      "text/plain": [
       "(84,)"
      ]
     },
     "execution_count": 9,
     "metadata": {},
     "output_type": "execute_result"
    }
   ],
   "source": [
    "records_arr.shape"
   ]
  },
  {
   "cell_type": "code",
   "execution_count": 10,
   "metadata": {
    "collapsed": true
   },
   "outputs": [],
   "source": [
    "f = 128 #Hz\n",
    "window = int(0.4 * f) #second half-window"
   ]
  },
  {
   "cell_type": "code",
   "execution_count": 25,
   "metadata": {
    "collapsed": true
   },
   "outputs": [],
   "source": [
    "def show_confusion_matrix(C,class_labels=['0','1']):\n",
    "    \"\"\"\n",
    "    C: ndarray, shape (2,2) as given by scikit-learn confusion_matrix function\n",
    "    class_labels: list of strings, default simply labels 0 and 1.\n",
    "\n",
    "    Draws confusion matrix with associated metrics.\n",
    "    \"\"\"\n",
    "#     import matplotlib.pyplot as plt\n",
    "#     import numpy as np\n",
    "    \n",
    "    assert C.shape == (2,2), \"Confusion matrix should be from binary classification only.\"\n",
    "    \n",
    "    # true negative, false positive, etc...\n",
    "    tn = C[0,0]; fp = C[0,1]; fn = C[1,0]; tp = C[1,1];\n",
    "\n",
    "    NP = fn+tp # Num positive examples\n",
    "    NN = tn+fp # Num negative examples\n",
    "    N  = NP+NN\n",
    "\n",
    "    fig = plt.figure(figsize=(8,8))\n",
    "    ax  = fig.add_subplot(111)\n",
    "    ax.imshow(C, interpolation='nearest', cmap=plt.cm.gray)\n",
    "\n",
    "    # Draw the grid boxes\n",
    "    ax.set_xlim(-0.5,2.5)\n",
    "    ax.set_ylim(3.5,-0.5)\n",
    "    ax.plot([-0.5,2.5],[0.5,0.5], '-k', lw=2)\n",
    "    ax.plot([-0.5,2.5],[1.5,1.5], '-k', lw=2)\n",
    "    ax.plot([-0.5,2.5],[2.5,2.5], '-k', lw=2)\n",
    "    ax.plot([0.5,0.5],[-0.5,2.5], '-k', lw=2)\n",
    "    ax.plot([1.5,1.5],[-0.5,2.5], '-k', lw=2)\n",
    "    ax.plot([3.5,3.5],[-0.5,2.5], '-k', lw=2)\n",
    "    \n",
    "#     ax.plot([1.5,1.5],[-0.5,2.5], '-k', lw=2)\n",
    "    # Set xlabels\n",
    "    ax.set_xlabel('Predicted Label', fontsize=16)\n",
    "    ax.set_xticks([0,1,2])\n",
    "    ax.set_xticklabels(class_labels + [''])\n",
    "    ax.xaxis.set_label_position('top')\n",
    "    ax.xaxis.tick_top()\n",
    "    # These coordinate might require some tinkering. Ditto for y, below.\n",
    "    ax.xaxis.set_label_coords(0.34,1.06)\n",
    "\n",
    "    # Set ylabels\n",
    "    ax.set_ylabel('True Label', fontsize=16, rotation=90)\n",
    "    ax.set_yticklabels(class_labels + [''],rotation=90)\n",
    "    ax.set_yticks([0,1,2])\n",
    "    ax.yaxis.set_label_coords(-0.09,0.65)\n",
    "\n",
    "\n",
    "    # Fill in initial metrics: tp, tn, etc...\n",
    "    ax.text(0,0,\n",
    "            'True Neg: %d\\n(Num Neg: %d)'%(tn,NN),\n",
    "            va='center',\n",
    "            ha='center',\n",
    "            bbox=dict(fc='w',boxstyle='round,pad=1'))\n",
    "\n",
    "    ax.text(0,1,\n",
    "            'False Neg: %d'%fn,\n",
    "            va='center',\n",
    "            ha='center',\n",
    "            bbox=dict(fc='w',boxstyle='round,pad=1'))\n",
    "\n",
    "    ax.text(1,0,\n",
    "            'False Pos: %d'%fp,\n",
    "            va='center',\n",
    "            ha='center',\n",
    "            bbox=dict(fc='w',boxstyle='round,pad=1'))\n",
    "\n",
    "\n",
    "    ax.text(1,1,\n",
    "            'True Pos: %d\\n(Num Pos: %d)'%(tp,NP),\n",
    "            va='center',\n",
    "            ha='center',\n",
    "            bbox=dict(fc='w',boxstyle='round,pad=1'))\n",
    "\n",
    "    # Fill in secondary metrics: accuracy, true pos rate, etc...\n",
    "    ax.text(2,0,\n",
    "            'False Pos Rate: %.2f'%(fp / (fp+tn+0.)),\n",
    "            va='center',\n",
    "            ha='center',\n",
    "            bbox=dict(fc='w',boxstyle='round,pad=1'))\n",
    "\n",
    "    ax.text(2,1,\n",
    "            'True Pos Rate: %.2f'%(tp / (tp+fn+0.)),\n",
    "            va='center',\n",
    "            ha='center',\n",
    "            bbox=dict(fc='w',boxstyle='round,pad=1'))\n",
    "\n",
    "    ax.text(2,2,\n",
    "            'Accuracy: %.2f'%((tp+tn+0.)/N),\n",
    "            va='center',\n",
    "            ha='center',\n",
    "            bbox=dict(fc='w',boxstyle='round,pad=1'))\n",
    "\n",
    "    ax.text(0,2,\n",
    "            'Neg Pred Val: %.2f'%(1-fn/(fn+tn+0.)),\n",
    "            va='center',\n",
    "            ha='center',\n",
    "            bbox=dict(fc='w',boxstyle='round,pad=1'))\n",
    "\n",
    "    ax.text(1,2,\n",
    "            'Pos Pred Val: %.2f'%(tp/(tp+fp+0.)),\n",
    "            va='center',\n",
    "            ha='center',\n",
    "            bbox=dict(fc='w',boxstyle='round,pad=1'))\n",
    "    ax.text(0,3,\n",
    "            'Sensitivity: %.2f'%(tp*1./(tp+fn)),\n",
    "            va='center',\n",
    "            ha='center',\n",
    "            bbox=dict(fc='w',boxstyle='round,pad=1'))\n",
    "    ax.text(1,3,\n",
    "            'Specificity: %.2f'%(tn*1./(fp+tn)),\n",
    "            va='center',\n",
    "            ha='center',\n",
    "            bbox=dict(fc='w',boxstyle='round,pad=1'))\n",
    "\n",
    "\n",
    "    plt.tight_layout()\n",
    "    plt.show()\n",
    "    print (tp*1./(tp+fn), tn*1./(fp+tn))"
   ]
  },
  {
   "cell_type": "markdown",
   "metadata": {},
   "source": [
    "# Curating/Separating AF from Non-AF"
   ]
  },
  {
   "cell_type": "code",
   "execution_count": 11,
   "metadata": {
    "collapsed": false
   },
   "outputs": [
    {
     "name": "stdout",
     "output_type": "stream",
     "text": [
      "06\n",
      "38\n",
      "42\n",
      "72\n"
     ]
    }
   ],
   "source": [
    "af_list, n_list = [], []\n",
    "patient_dict = {}\n",
    "for i in records_arr:\n",
    "    pat = i\n",
    "    sig, fields = wf.rdsamp(path_arr + i)\n",
    "    ann_temp = wf.rdann(path_arr + i, 'qrs')\n",
    "    arr_ann = np.array(ann_temp[1])\n",
    "    arr_idx = np.array(ann_temp[0])\n",
    "    ecg = sig[:,0]\n",
    "    ecg_idx = np.linspace(0, ecg.shape[0], ecg.shape[0])\n",
    "    if 'T' in arr_ann:\n",
    "        arr_ann[np.where(arr_ann == 'N')] = 0\n",
    "        arr_ann[np.where(arr_ann == 'T')] = 1\n",
    "        T_idx = arr_idx[np.where(arr_ann == '1')][0]\n",
    "#         AF_idx = np.where(ecg_idx < T_idx)\n",
    "#         N_idx = np.where(ecg_idx > T_idx)\n",
    "        af_peak_idx = arr_idx[np.where(arr_idx < T_idx)]\n",
    "        n_peak_idx = arr_idx[np.where(arr_idx > T_idx)]\n",
    "        af = np.array([ecg[i - window: i + window] for i in af_peak_idx[100:-100]])\n",
    "        n = np.array([ecg[i - window: i + window] for i in n_peak_idx[100:-100]])\n",
    "        num_af, _ = af.shape\n",
    "        num_n, _ = n.shape\n",
    "        num_samples = 10000\n",
    "        if num_af > num_samples and num_n > num_samples:\n",
    "        \n",
    "            af_list.append(af[:num_samples])\n",
    "            n_list.append(n[:num_samples])\n",
    "        else:\n",
    "            af_list.append(af)\n",
    "            n_list.append(n)\n",
    "            patient_dict[pat] = ecg\n",
    "            print (pat)\n",
    "            \n",
    "        \n"
   ]
  },
  {
   "cell_type": "code",
   "execution_count": 12,
   "metadata": {
    "collapsed": true
   },
   "outputs": [],
   "source": [
    "af_arr = np.concatenate(af_list)\n",
    "n_arr = np.concatenate(n_list)"
   ]
  },
  {
   "cell_type": "code",
   "execution_count": 20,
   "metadata": {
    "collapsed": true
   },
   "outputs": [],
   "source": [
    "# ltafdb_dict = {'AF':af_arr, 'N':n_arr}\n",
    "# jl.dump(ltafdb_dict, '../ecg_research/Databases/AFIB_database.pickle')"
   ]
  },
  {
   "cell_type": "code",
   "execution_count": 13,
   "metadata": {
    "collapsed": false
   },
   "outputs": [
    {
     "name": "stdout",
     "output_type": "stream",
     "text": [
      "(278399, 102) (686224, 102)\n"
     ]
    }
   ],
   "source": [
    "print (af_arr.shape, n_arr.shape)"
   ]
  },
  {
   "cell_type": "code",
   "execution_count": 14,
   "metadata": {
    "collapsed": true
   },
   "outputs": [],
   "source": [
    "af_label = np.array(['1']* af_arr.shape[0])\n",
    "n_label = np.array(['0']* n_arr.shape[0])"
   ]
  },
  {
   "cell_type": "code",
   "execution_count": 15,
   "metadata": {
    "collapsed": true
   },
   "outputs": [],
   "source": [
    "X_ = np.concatenate([af_arr, n_arr])\n",
    "y_ = np.concatenate([af_label, n_label])"
   ]
  },
  {
   "cell_type": "code",
   "execution_count": 16,
   "metadata": {
    "collapsed": true
   },
   "outputs": [],
   "source": [
    "pca = PCA(n_components=20)\n",
    "X_new_ = pca.fit_transform(X_)"
   ]
  },
  {
   "cell_type": "code",
   "execution_count": 17,
   "metadata": {
    "collapsed": false
   },
   "outputs": [
    {
     "data": {
      "text/plain": [
       "(964623, 20)"
      ]
     },
     "execution_count": 17,
     "metadata": {},
     "output_type": "execute_result"
    }
   ],
   "source": [
    "X_new_.shape"
   ]
  },
  {
   "cell_type": "code",
   "execution_count": 18,
   "metadata": {
    "collapsed": true
   },
   "outputs": [],
   "source": [
    "# X_c = StandardScaler().fit_transform(X_new)\n",
    "X_train, X_test, y_train, y_test = train_test_split(X_new_, y_, test_size=.4, random_state=42)\n",
    "X_train = StandardScaler().fit_transform(X_train)\n",
    "X_test = StandardScaler().fit_transform(X_test)"
   ]
  },
  {
   "cell_type": "code",
   "execution_count": 20,
   "metadata": {
    "collapsed": true
   },
   "outputs": [],
   "source": [
    "best_classifier = MLPClassifier((100, 100, 100))\n",
    "best_classifier.fit(X_train, y_train)\n",
    "score = best_classifier.score(X_test, y_test)"
   ]
  },
  {
   "cell_type": "code",
   "execution_count": 21,
   "metadata": {
    "collapsed": true
   },
   "outputs": [],
   "source": [
    "pred_afib = best_classifier.predict(X_test)"
   ]
  },
  {
   "cell_type": "code",
   "execution_count": 26,
   "metadata": {
    "collapsed": false
   },
   "outputs": [
    {
     "data": {
      "image/png": "[encoded data removed]",
      "text/plain": [
       "<matplotlib.figure.Figure at 0x1137aa7b8>"
      ]
     },
     "metadata": {},
     "output_type": "display_data"
    },
    {
     "name": "stdout",
     "output_type": "stream",
     "text": [
      "0.914561170213 0.980947281773\n"
     ]
    }
   ],
   "source": [
    "show_confusion_matrix(cf(y_test, pred_afib))"
   ]
  },
  {
   "cell_type": "markdown",
   "metadata": {},
   "source": [
    "# Precision - Recall"
   ]
  },
  {
   "cell_type": "code",
   "execution_count": 47,
   "metadata": {
    "collapsed": false
   },
   "outputs": [
    {
     "data": {
      "image/png": "[encoded data removed]",
      "text/plain": [
       "<matplotlib.figure.Figure at 0x1112abf60>"
      ]
     },
     "metadata": {},
     "output_type": "display_data"
    }
   ],
   "source": [
    "#plot details\n",
    "# setup plot details\n",
    "# colors = cycle(['navy', 'turquoise', 'darkorange', 'cornflowerblue', 'teal'])\n",
    "n_classes = 1\n",
    "colors = cycle(['turquoise', 'darkorange', 'cornflowerblue', 'teal'])\n",
    "lw = 2\n",
    "y_score = pred_afib\n",
    "# y_test = gt\n",
    "# y_test = y_test[:,[1,2,3]]\n",
    "# y_score = prediction[:,[1,2,3]]\n",
    "\n",
    "\n",
    "# Compute Precision-Recall and plot curve\n",
    "# precision = \n",
    "# recall = dict()\n",
    "# average_precision = dict()\n",
    "\n",
    "precision, recall, _ = precision_recall_curve(y_test.astype('float'), y_score.astype('float'))\n",
    "average_precision = average_precision_score(y_test.astype('float'), y_score.astype('float'))\n",
    "\n",
    "# # Compute micro-average ROC curve and ROC area\n",
    "# precision[\"micro\"], recall[\"micro\"], _ = precision_recall_curve(y_test.ravel(),\n",
    "#     y_score.ravel())\n",
    "# average_precision[\"micro\"] = average_precision_score(y_test, y_score,\n",
    "#                                                      average=\"micro\")\n",
    "\n",
    "\n",
    "# Plot Precision-Recall curve\n",
    "plt.clf()\n",
    "plt.plot(recall, precision, lw=lw, color='navy',\n",
    "         label='Precision-Recall curve')\n",
    "plt.xlabel('Recall')\n",
    "plt.ylabel('Precision')\n",
    "plt.ylim([0.0, 1.1])\n",
    "plt.xlim([0.0, 1.0])\n",
    "plt.title('Precision-Recall example: AUC={0:0.2f}'.format(average_precision))\n",
    "plt.legend(loc=\"lower left\")\n",
    "plt.show()\n",
    "\n",
    "# # Plot Precision-Recall curve for each class\n",
    "# plt.clf()\n",
    "# plt.plot(recall[\"micro\"], precision[\"micro\"], color='gold', lw=lw,\n",
    "#          label='micro-average Precision-recall curve (area = {0:0.2f})'\n",
    "#                ''.format(average_precision[\"micro\"]))\n",
    "# list_names = ['PAC', 'BBBB', 'PVC']\n",
    "# for i, color in zip(range(n_classes-1), colors):\n",
    "#     plt.plot(recall[i], precision[i], color=color, lw=lw,\n",
    "#              label='Precision-recall curve of class {0} (area = {1:0.2f})'\n",
    "#                    ''.format(list_names[i], average_precision[i]))\n",
    "\n",
    "# plt.xlim([0.0, 1.0])\n",
    "# plt.ylim([0.0, 1.1])\n",
    "# plt.xlabel('Recall')\n",
    "# plt.ylabel('Precision')\n",
    "# plt.title('Extension of Precision-Recall curve to multi-class')\n",
    "# plt.legend(loc=\"lower right\")\n",
    "# plt.show()"
   ]
  },
  {
   "cell_type": "code",
   "execution_count": 43,
   "metadata": {
    "collapsed": false
   },
   "outputs": [
    {
     "name": "stdout",
     "output_type": "stream",
     "text": [
      "Help on function precision_recall_curve in module sklearn.metrics.ranking:\n",
      "\n",
      "precision_recall_curve(y_true, probas_pred, pos_label=None, sample_weight=None)\n",
      "    Compute precision-recall pairs for different probability thresholds\n",
      "    \n",
      "    Note: this implementation is restricted to the binary classification task.\n",
      "    \n",
      "    The precision is the ratio ``tp / (tp + fp)`` where ``tp`` is the number of\n",
      "    true positives and ``fp`` the number of false positives. The precision is\n",
      "    intuitively the ability of the classifier not to label as positive a sample\n",
      "    that is negative.\n",
      "    \n",
      "    The recall is the ratio ``tp / (tp + fn)`` where ``tp`` is the number of\n",
      "    true positives and ``fn`` the number of false negatives. The recall is\n",
      "    intuitively the ability of the classifier to find all the positive samples.\n",
      "    \n",
      "    The last precision and recall values are 1. and 0. respectively and do not\n",
      "    have a corresponding threshold.  This ensures that the graph starts on the\n",
      "    x axis.\n",
      "    \n",
      "    Read more in the :ref:`User Guide <precision_recall_f_measure_metrics>`.\n",
      "    \n",
      "    Parameters\n",
      "    ----------\n",
      "    y_true : array, shape = [n_samples]\n",
      "        True targets of binary classification in range {-1, 1} or {0, 1}.\n",
      "    \n",
      "    probas_pred : array, shape = [n_samples]\n",
      "        Estimated probabilities or decision function.\n",
      "    \n",
      "    pos_label : int, optional (default=None)\n",
      "        The label of the positive class\n",
      "    \n",
      "    sample_weight : array-like of shape = [n_samples], optional\n",
      "        Sample weights.\n",
      "    \n",
      "    Returns\n",
      "    -------\n",
      "    precision : array, shape = [n_thresholds + 1]\n",
      "        Precision values such that element i is the precision of\n",
      "        predictions with score >= thresholds[i] and the last element is 1.\n",
      "    \n",
      "    recall : array, shape = [n_thresholds + 1]\n",
      "        Decreasing recall values such that element i is the recall of\n",
      "        predictions with score >= thresholds[i] and the last element is 0.\n",
      "    \n",
      "    thresholds : array, shape = [n_thresholds <= len(np.unique(probas_pred))]\n",
      "        Increasing thresholds on the decision function used to compute\n",
      "        precision and recall.\n",
      "    \n",
      "    Examples\n",
      "    --------\n",
      "    >>> import numpy as np\n",
      "    >>> from sklearn.metrics import precision_recall_curve\n",
      "    >>> y_true = np.array([0, 0, 1, 1])\n",
      "    >>> y_scores = np.array([0.1, 0.4, 0.35, 0.8])\n",
      "    >>> precision, recall, thresholds = precision_recall_curve(\n",
      "    ...     y_true, y_scores)\n",
      "    >>> precision  # doctest: +ELLIPSIS\n",
      "    array([ 0.66...,  0.5       ,  1.        ,  1.        ])\n",
      "    >>> recall\n",
      "    array([ 1. ,  0.5,  0.5,  0. ])\n",
      "    >>> thresholds\n",
      "    array([ 0.35,  0.4 ,  0.8 ])\n",
      "\n"
     ]
    }
   ],
   "source": [
    "help(precision_recall_curve)"
   ]
  },
  {
   "cell_type": "code",
   "execution_count": 40,
   "metadata": {
    "collapsed": false
   },
   "outputs": [
    {
     "data": {
      "text/plain": [
       "array(['0', '0', '0', ..., '1', '0', '0'], \n",
       "      dtype='<U1')"
      ]
     },
     "execution_count": 40,
     "metadata": {},
     "output_type": "execute_result"
    }
   ],
   "source": [
    "y_test"
   ]
  },
  {
   "cell_type": "markdown",
   "metadata": {},
   "source": [
    "# Test on Specific Patient"
   ]
  },
  {
   "cell_type": "code",
   "execution_count": 29,
   "metadata": {
    "collapsed": true
   },
   "outputs": [],
   "source": [
    "afib_patient_dict = jl.load('/Users/user/Documents/ecg_research/Databases/AFIB_patients.pickle')"
   ]
  },
  {
   "cell_type": "code",
   "execution_count": 46,
   "metadata": {
    "collapsed": false
   },
   "outputs": [],
   "source": [
    "afib_patient_test = afib_patient_dict[b'06'][60000:120000]"
   ]
  },
  {
   "cell_type": "code",
   "execution_count": 47,
   "metadata": {
    "collapsed": false
   },
   "outputs": [],
   "source": [
    "f = 120\n",
    "ecg = afib_patient_test\n",
    "window = int(f * 0.4) #800ms beat\n",
    "ecg_new = ecg_util.baseline_correct(ecg, f)\n",
    "rpeaks = np.array(ecgsig.hamilton_segmenter(ecg_new, f)['rpeaks'])[2:-2] #detect rpeaks from ecg\n",
    "beats = np.array([ecg_new[i - window: i + window] for i in rpeaks])\n",
    "pca = PCA(n_components=20)\n",
    "beats_new = pca.fit_transform(beats)"
   ]
  },
  {
   "cell_type": "code",
   "execution_count": 48,
   "metadata": {
    "collapsed": true
   },
   "outputs": [],
   "source": [
    "pred_pat = best_classifier.predict(beats_new)"
   ]
  },
  {
   "cell_type": "markdown",
   "metadata": {},
   "source": [
    "### Predicted as Normal Beat"
   ]
  },
  {
   "cell_type": "code",
   "execution_count": 49,
   "metadata": {
    "collapsed": false
   },
   "outputs": [
    {
     "data": {
      "text/plain": [
       "[<matplotlib.lines.Line2D at 0x1368cd240>]"
      ]
     },
     "execution_count": 49,
     "metadata": {},
     "output_type": "execute_result"
    },
    {
     "data": {
      "image/png": "[encoded data removed]",
      "text/plain": [
       "<matplotlib.figure.Figure at 0x104222128>"
      ]
     },
     "metadata": {},
     "output_type": "display_data"
    }
   ],
   "source": [
    "plt.plot(beats[np.where(pred_pat == '0')[0][0]])"
   ]
  },
  {
   "cell_type": "markdown",
   "metadata": {},
   "source": [
    "### Predicted as Afib Beat"
   ]
  },
  {
   "cell_type": "code",
   "execution_count": 50,
   "metadata": {
    "collapsed": false
   },
   "outputs": [
    {
     "data": {
      "text/plain": [
       "[<matplotlib.lines.Line2D at 0x1367c9080>]"
      ]
     },
     "execution_count": 50,
     "metadata": {},
     "output_type": "execute_result"
    },
    {
     "data": {
      "image/png": "[encoded data removed]",
      "text/plain": [
       "<matplotlib.figure.Figure at 0x136834b38>"
      ]
     },
     "metadata": {},
     "output_type": "display_data"
    }
   ],
   "source": [
    "plt.plot(beats[np.where(pred_pat == '1')[0][0]])"
   ]
  },
  {
   "cell_type": "code",
   "execution_count": null,
   "metadata": {
    "collapsed": true
   },
   "outputs": [],
   "source": []
  }
 ],
 "metadata": {
  "anaconda-cloud": {},
  "kernelspec": {
   "display_name": "Python [conda env:ecg]",
   "language": "python",
   "name": "conda-env-ecg-py"
  },
  "language_info": {
   "codemirror_mode": {
    "name": "ipython",
    "version": 3
   },
   "file_extension": ".py",
   "mimetype": "text/x-python",
   "name": "python",
   "nbconvert_exporter": "python",
   "pygments_lexer": "ipython3",
   "version": "3.5.2"
  }
 },
 "nbformat": 4,
 "nbformat_minor": 1
}
